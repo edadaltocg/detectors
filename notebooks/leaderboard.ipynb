{
 "cells": [
  {
   "attachments": {},
   "cell_type": "markdown",
   "metadata": {},
   "source": [
    "# 🧐 Detectors' leaderboard"
   ]
  },
  {
   "cell_type": "code",
   "execution_count": 2,
   "metadata": {},
   "outputs": [
    {
     "name": "stderr",
     "output_type": "stream",
     "text": [
      "NOTE: Redirects are currently not supported in Windows or MacOs.\n"
     ]
    }
   ],
   "source": [
    "import os\n",
    "import pandas as pd\n",
    "import detectors\n",
    "import warnings\n",
    "import json\n",
    "warnings.filterwarnings('ignore')"
   ]
  },
  {
   "cell_type": "code",
   "execution_count": 3,
   "metadata": {},
   "outputs": [
    {
     "data": {
      "text/plain": [
       "'/Users/dadalto/github/detectors/results/'"
      ]
     },
     "execution_count": 3,
     "metadata": {},
     "output_type": "execute_result"
    }
   ],
   "source": [
    "RESULTS_FOLDER = detectors.config.RESULTS_DIR\n",
    "RESULTS_FOLDER"
   ]
  },
  {
   "cell_type": "code",
   "execution_count": 26,
   "metadata": {},
   "outputs": [],
   "source": [
    "def create_leaderboard(results_folder: str, pipeline_name: str):\n",
    "    path = os.path.join(results_folder, pipeline_name)\n",
    "    df = pd.read_csv(os.path.join(path, 'results.csv'))\n",
    "    df = df.drop_duplicates()\n",
    "    # drop nan\n",
    "    df = df.dropna()\n",
    "    # objective auroc\n",
    "    df = df.query('objective == \"auroc\" and objective_dataset == \"average\"')\n",
    "    # datasets\n",
    "    datasets = [\"average\"]\n",
    "    for ds in datasets:\n",
    "        # print(json.loads(df[ds].iloc[0].replace(\"'\", '\"'))[\"auroc\"])\n",
    "        df[ds] = df[ds].apply(lambda x: json.loads(x.replace(\"'\", '\"'))[\"auroc\"])\n",
    "    columns = [\"model\", \"method\", \"seed\"] + datasets\n",
    "    df = df[columns]\n",
    "    df = df.groupby([\"model\", \"method\"]).mean().reset_index().sort_values([\"model\",\"average\"], ascending=False)\n",
    "    return df.to_markdown(index=False)"
   ]
  },
  {
   "attachments": {},
   "cell_type": "markdown",
   "metadata": {},
   "source": [
    "## CIFAR-10"
   ]
  },
  {
   "cell_type": "code",
   "execution_count": 27,
   "metadata": {},
   "outputs": [
    {
     "name": "stdout",
     "output_type": "stream",
     "text": [
      "| model                                 | method               |   seed |   cifar100 |   average |\n",
      "|:--------------------------------------|:---------------------|-------:|-----------:|----------:|\n",
      "| vit_base_patch16_224_in21k_ft_cifar10 | vim                  |      1 |   0.987082 |  0.995861 |\n",
      "| vit_base_patch16_224_in21k_ft_cifar10 | knn_euclides         |      1 |   0.98799  |  0.995314 |\n",
      "| vit_base_patch16_224_in21k_ft_cifar10 | mahalanobis          |      1 |   0.987686 |  0.992963 |\n",
      "| vit_base_patch16_224_in21k_ft_cifar10 | react                |      1 |   0.985091 |  0.991297 |\n",
      "| vit_base_patch16_224_in21k_ft_cifar10 | projection           |      1 |   0.984652 |  0.991269 |\n",
      "| vit_base_patch16_224_in21k_ft_cifar10 | max_logits           |      1 |   0.983717 |  0.990563 |\n",
      "| vit_base_patch16_224_in21k_ft_cifar10 | odin                 |      1 |   0.984154 |  0.990455 |\n",
      "| vit_base_patch16_224_in21k_ft_cifar10 | doctor               |      1 |   0.983136 |  0.989888 |\n",
      "| vit_base_patch16_224_in21k_ft_cifar10 | maxcosine            |      1 |   0.983345 |  0.989341 |\n",
      "| vit_base_patch16_224_in21k_ft_cifar10 | gradnorm             |      1 |   0.981171 |  0.989124 |\n",
      "| vit_base_patch16_224_in21k_ft_cifar10 | mcdropout            |      1 |   0.980664 |  0.985653 |\n",
      "| vit_base_patch16_224_in21k_ft_cifar10 | msp                  |      1 |   0.980665 |  0.985653 |\n",
      "| vit_base_patch16_224_in21k_ft_cifar10 | igeood_logits        |      1 |   0.970289 |  0.982095 |\n",
      "| vit_base_patch16_224_in21k_ft_cifar10 | energy               |      1 |   0.947605 |  0.976461 |\n",
      "| vit_base_patch16_224_in21k_ft_cifar10 | relative_mahalanobis |      1 |   0.97433  |  0.9763   |\n",
      "| vit_base_patch16_224_in21k_ft_cifar10 | kl_matching          |      1 |   0.967856 |  0.974619 |\n",
      "| vit_base_patch16_224_in21k_ft_cifar10 | dice                 |      1 |   0.946471 |  0.964107 |\n",
      "| vgg16_bn_cifar10                      | projection           |      1 |   0.85867  |  0.950818 |\n",
      "| vgg16_bn_cifar10                      | knn_euclides         |      1 |   0.885629 |  0.94266  |\n",
      "| vgg16_bn_cifar10                      | maxcosine            |      1 |   0.866357 |  0.924965 |\n",
      "| vgg16_bn_cifar10                      | doctor               |      1 |   0.830931 |  0.916547 |\n",
      "| vgg16_bn_cifar10                      | odin                 |      1 |   0.82673  |  0.914215 |\n",
      "| vgg16_bn_cifar10                      | max_logits           |      1 |   0.826701 |  0.914212 |\n",
      "| vgg16_bn_cifar10                      | igeood_logits        |      1 |   0.823047 |  0.90992  |\n",
      "| vgg16_bn_cifar10                      | mcdropout            |      1 |   0.838793 |  0.905717 |\n",
      "| vgg16_bn_cifar10                      | msp                  |      1 |   0.838793 |  0.905717 |\n",
      "| vgg16_bn_cifar10                      | kl_matching          |      1 |   0.832131 |  0.902772 |\n",
      "| vgg16_bn_cifar10                      | energy               |      1 |   0.762744 |  0.891381 |\n",
      "| vgg16_bn_cifar10                      | dice                 |      1 |   0.75639  |  0.86065  |\n",
      "| vgg16_bn_cifar10                      | vim                  |      1 |   0.5      |  0.5      |\n",
      "| resnet34_cifar10                      | knn_euclides         |      1 |   0.901877 |  0.942437 |\n",
      "| resnet34_cifar10                      | mahalanobis          |      1 |   0.890431 |  0.936927 |\n",
      "| resnet34_cifar10                      | maxcosine            |      1 |   0.892971 |  0.934208 |\n",
      "| resnet34_cifar10                      | kl_matching          |      1 |   0.862794 |  0.913779 |\n",
      "| resnet34_cifar10                      | react                |      1 |   0.83124  |  0.910966 |\n",
      "| resnet34_cifar10                      | mcdropout            |      1 |   0.847404 |  0.907403 |\n",
      "| resnet34_cifar10                      | msp                  |      1 |   0.847404 |  0.907403 |\n",
      "| resnet34_cifar10                      | doctor               |      1 |   0.848128 |  0.907172 |\n",
      "| resnet34_cifar10                      | projection           |      1 |   0.807391 |  0.900568 |\n",
      "| resnet34_cifar10                      | relative_mahalanobis |      1 |   0.858936 |  0.897773 |\n",
      "| resnet34_cifar10                      | odin                 |      1 |   0.822603 |  0.897495 |\n",
      "| resnet34_cifar10                      | max_logits           |      1 |   0.822435 |  0.897355 |\n",
      "| resnet34_cifar10                      | igeood_logits        |      1 |   0.816525 |  0.887615 |\n",
      "| resnet34_cifar10                      | energy               |      1 |   0.803271 |  0.881123 |\n",
      "| resnet34_cifar10                      | dice                 |      1 |   0.755971 |  0.813543 |\n",
      "| resnet34_cifar10                      | gradnorm             |      1 |   0.704346 |  0.79562  |\n",
      "| resnet34_cifar10                      | vim                  |      1 |   0.5      |  0.5      |\n",
      "| densenet121_cifar10                   | knn_euclides         |      1 |   0.843745 |  0.922177 |\n",
      "| densenet121_cifar10                   | maxcosine            |      1 |   0.818439 |  0.903361 |\n",
      "| densenet121_cifar10                   | mahalanobis          |      1 |   0.784083 |  0.8721   |\n",
      "| densenet121_cifar10                   | igeood_logits        |      1 |   0.798063 |  0.86337  |\n",
      "| densenet121_cifar10                   | odin                 |      1 |   0.784558 |  0.862564 |\n",
      "| densenet121_cifar10                   | react                |      1 |   0.776922 |  0.860275 |\n",
      "| densenet121_cifar10                   | max_logits           |      1 |   0.779472 |  0.860254 |\n",
      "| densenet121_cifar10                   | mcdropout            |      1 |   0.805161 |  0.852909 |\n",
      "| densenet121_cifar10                   | msp                  |      1 |   0.805161 |  0.852909 |\n",
      "| densenet121_cifar10                   | doctor               |      1 |   0.761897 |  0.850825 |\n",
      "| densenet121_cifar10                   | energy               |      1 |   0.746957 |  0.834802 |\n",
      "| densenet121_cifar10                   | dice                 |      1 |   0.683694 |  0.800388 |\n",
      "| densenet121_cifar10                   | projection           |      1 |   0.653101 |  0.796789 |\n",
      "| densenet121_cifar10                   | kl_matching          |      1 |   0.743197 |  0.772633 |\n",
      "| densenet121_cifar10                   | gradnorm             |      1 |   0.65409  |  0.767776 |\n",
      "| densenet121_cifar10                   | relative_mahalanobis |      1 |   0.657803 |  0.570881 |\n",
      "| densenet121_cifar10                   | vim                  |      1 |   0.5      |  0.5      |\n"
     ]
    }
   ],
   "source": [
    "PIPELINE_NAME = \"ood_validation_cifar10\"\n",
    "def create_leaderboard(results_folder: str, pipeline_name: str):\n",
    "    path = os.path.join(results_folder, pipeline_name)\n",
    "    df = pd.read_csv(os.path.join(path, 'results.csv'))\n",
    "    df = df.drop_duplicates()\n",
    "    # drop nan\n",
    "    df = df.dropna()\n",
    "    # objective auroc\n",
    "    # filter sed 42\n",
    "    df = df.query('seed != 42')\n",
    "    df = df.query('objective == \"auroc\" and objective_dataset == \"average\"')\n",
    "    # datasets\n",
    "    datasets = [\"cifar100\", \"average\"]\n",
    "    for ds in datasets:\n",
    "        # print(json.loads(df[ds].iloc[0].replace(\"'\", '\"'))[\"auroc\"])\n",
    "        df[ds] = df[ds].apply(lambda x: json.loads(x.replace(\"'\", '\"'))[\"auroc\"])\n",
    "    columns = [\"model\", \"method\", \"seed\"] + datasets\n",
    "    df = df[columns]\n",
    "    df = df.groupby([\"model\", \"method\"]).mean().reset_index().sort_values([\"model\",\"average\"], ascending=False)\n",
    "    return df.to_markdown(index=False)\n",
    "leaderboard = create_leaderboard(RESULTS_FOLDER, PIPELINE_NAME)\n",
    "print(leaderboard)"
   ]
  },
  {
   "attachments": {},
   "cell_type": "markdown",
   "metadata": {},
   "source": [
    "## CIFAR-100"
   ]
  },
  {
   "cell_type": "code",
   "execution_count": 10,
   "metadata": {},
   "outputs": [
    {
     "name": "stdout",
     "output_type": "stream",
     "text": [
      "| model                                  | method               |   seed |     svhn |   cifar10 |   average |\n",
      "|:---------------------------------------|:---------------------|-------:|---------:|----------:|----------:|\n",
      "| vit_base_patch16_224_in21k_ft_cifar100 | vim                  |      1 | 0.963327 |  0.954967 |  0.967974 |\n",
      "| vit_base_patch16_224_in21k_ft_cifar100 | mahalanobis          |      1 | 0.953243 |  0.963029 |  0.963148 |\n",
      "| vit_base_patch16_224_in21k_ft_cifar100 | knn_euclides         |      1 | 0.95498  |  0.94789  |  0.961939 |\n",
      "| vit_base_patch16_224_in21k_ft_cifar100 | maxcosine            |      1 | 0.945643 |  0.958058 |  0.957294 |\n",
      "| vit_base_patch16_224_in21k_ft_cifar100 | projection           |      1 | 0.947708 |  0.96081  |  0.956611 |\n",
      "| vit_base_patch16_224_in21k_ft_cifar100 | react                |      1 | 0.935127 |  0.957787 |  0.950207 |\n",
      "| vit_base_patch16_224_in21k_ft_cifar100 | max_logits           |      1 | 0.931011 |  0.956229 |  0.948208 |\n",
      "| vit_base_patch16_224_in21k_ft_cifar100 | odin                 |      1 | 0.930843 |  0.956154 |  0.947932 |\n",
      "| vit_base_patch16_224_in21k_ft_cifar100 | doctor               |      1 | 0.89339  |  0.950908 |  0.94304  |\n",
      "| vit_base_patch16_224_in21k_ft_cifar100 | gradnorm             |      1 | 0.930474 |  0.95611  |  0.941392 |\n",
      "| vit_base_patch16_224_in21k_ft_cifar100 | mcdropout            |      1 | 0.891832 |  0.930871 |  0.925784 |\n",
      "| vit_base_patch16_224_in21k_ft_cifar100 | msp                  |      1 | 0.891832 |  0.930871 |  0.925784 |\n",
      "| vit_base_patch16_224_in21k_ft_cifar100 | igeood_logits        |      1 | 0.838859 |  0.935693 |  0.922993 |\n",
      "| vit_base_patch16_224_in21k_ft_cifar100 | kl_matching          |      1 | 0.902865 |  0.918457 |  0.918317 |\n",
      "| vit_base_patch16_224_in21k_ft_cifar100 | relative_mahalanobis |      1 | 0.928625 |  0.928589 |  0.918042 |\n",
      "| vit_base_patch16_224_in21k_ft_cifar100 | energy               |      1 | 0.811319 |  0.867213 |  0.8874   |\n",
      "| vit_base_patch16_224_in21k_ft_cifar100 | dice                 |      1 | 0.659648 |  0.843812 |  0.781428 |\n",
      "| vgg16_bn_cifar100                      | projection           |      1 | 0.907988 |  0.681012 |  0.799085 |\n",
      "| vgg16_bn_cifar100                      | knn_euclides         |      1 | 0.768766 |  0.768009 |  0.741944 |\n",
      "| vgg16_bn_cifar100                      | maxcosine            |      1 | 0.757891 |  0.76449  |  0.727047 |\n",
      "| vgg16_bn_cifar100                      | kl_matching          |      1 | 0.727313 |  0.743837 |  0.71034  |\n",
      "| vgg16_bn_cifar100                      | odin                 |      1 | 0.745862 |  0.731099 |  0.664226 |\n",
      "| vgg16_bn_cifar100                      | max_logits           |      1 | 0.745839 |  0.731003 |  0.664166 |\n",
      "| vgg16_bn_cifar100                      | mcdropout            |      1 | 0.72628  |  0.742774 |  0.661684 |\n",
      "| vgg16_bn_cifar100                      | msp                  |      1 | 0.72628  |  0.742774 |  0.661684 |\n",
      "| vgg16_bn_cifar100                      | igeood_logits        |      1 | 0.735799 |  0.720228 |  0.656534 |\n",
      "| vgg16_bn_cifar100                      | dice                 |      1 | 0.858128 |  0.63028  |  0.647888 |\n",
      "| vgg16_bn_cifar100                      | doctor               |      1 | 0.72565  |  0.677841 |  0.64081  |\n",
      "| vgg16_bn_cifar100                      | vim                  |      1 | 0.5      |  0.5      |  0.5      |\n",
      "| vgg16_bn_cifar100                      | energy               |      1 | 0.49115  |  0.41967  |  0.47369  |\n",
      "| resnet34_cifar100                      | projection           |      1 | 0.990034 |  0.704908 |  0.843566 |\n",
      "| resnet34_cifar100                      | mahalanobis          |      1 | 0.836212 |  0.790908 |  0.813947 |\n",
      "| resnet34_cifar100                      | knn_euclides         |      1 | 0.840046 |  0.792876 |  0.811748 |\n",
      "| resnet34_cifar100                      | maxcosine            |      1 | 0.828716 |  0.788234 |  0.801094 |\n",
      "| resnet34_cifar100                      | doctor               |      1 | 0.831792 |  0.764346 |  0.788852 |\n",
      "| resnet34_cifar100                      | react                |      1 | 0.881284 |  0.771174 |  0.788522 |\n",
      "| resnet34_cifar100                      | igeood_logits        |      1 | 0.827699 |  0.769588 |  0.787767 |\n",
      "| resnet34_cifar100                      | odin                 |      1 | 0.824326 |  0.772989 |  0.781159 |\n",
      "| resnet34_cifar100                      | max_logits           |      1 | 0.824328 |  0.772982 |  0.781157 |\n",
      "| resnet34_cifar100                      | dice                 |      1 | 0.772138 |  0.746076 |  0.769374 |\n",
      "| resnet34_cifar100                      | kl_matching          |      1 | 0.806543 |  0.772265 |  0.769326 |\n",
      "| resnet34_cifar100                      | energy               |      1 | 0.772726 |  0.760891 |  0.768898 |\n",
      "| resnet34_cifar100                      | relative_mahalanobis |      1 | 0.810067 |  0.786355 |  0.768449 |\n",
      "| resnet34_cifar100                      | mcdropout            |      1 | 0.808414 |  0.774329 |  0.768147 |\n",
      "| resnet34_cifar100                      | msp                  |      1 | 0.808414 |  0.774329 |  0.768147 |\n",
      "| resnet34_cifar100                      | gradnorm             |      1 | 0.715273 |  0.58211  |  0.632541 |\n",
      "| resnet34_cifar100                      | vim                  |      1 | 0.5      |  0.5      |  0.5      |\n",
      "| densenet121_cifar100                   | maxcosine            |      1 | 0.960365 |  0.684897 |  0.83811  |\n",
      "| densenet121_cifar100                   | react                |      1 | 0.616179 |  0.609038 |  0.793808 |\n",
      "| densenet121_cifar100                   | dice                 |      1 | 0.653135 |  0.684008 |  0.774208 |\n",
      "| densenet121_cifar100                   | odin                 |      1 | 0.513137 |  0.687515 |  0.765948 |\n",
      "| densenet121_cifar100                   | doctor               |      1 | 0.552417 |  0.692451 |  0.763729 |\n",
      "| densenet121_cifar100                   | igeood_logits        |      1 | 0.476037 |  0.698558 |  0.760542 |\n",
      "| densenet121_cifar100                   | energy               |      1 | 0.595724 |  0.705679 |  0.747923 |\n",
      "| densenet121_cifar100                   | msp                  |      1 | 0.705149 |  0.688301 |  0.735174 |\n",
      "| densenet121_cifar100                   | kl_matching          |      1 | 0.770315 |  0.663771 |  0.718338 |\n",
      "| densenet121_cifar100                   | mahalanobis          |      1 | 0.908841 |  0.548593 |  0.703601 |\n",
      "| densenet121_cifar100                   | projection           |      1 | 0.985646 |  0.595046 |  0.703355 |\n",
      "| densenet121_cifar100                   | relative_mahalanobis |      1 | 0.762195 |  0.685965 |  0.684301 |\n",
      "| densenet121_cifar100                   | knn_euclides         |      1 | 0.976793 |  0.663729 |  0.653809 |\n",
      "| densenet121_cifar100                   | gradnorm             |      1 | 0.504955 |  0.587125 |  0.62368  |\n",
      "| densenet121_cifar100                   | vim                  |      1 | 0.5      |  0.5      |  0.5      |\n"
     ]
    }
   ],
   "source": [
    "PIPELINE_NAME = \"ood_validation_cifar100\"\n",
    "def create_leaderboard(results_folder: str, pipeline_name: str):\n",
    "    path = os.path.join(results_folder, pipeline_name)\n",
    "    df = pd.read_csv(os.path.join(path, 'results.csv'))\n",
    "    df = df.drop_duplicates()\n",
    "    # drop nan\n",
    "    df = df.dropna()\n",
    "    # objective auroc\n",
    "    df = df.query('objective == \"auroc\" and objective_dataset == \"average\"')\n",
    "    # datasets\n",
    "    datasets = [\"svhn\",\"cifar10\", \"average\"]\n",
    "    for ds in datasets:\n",
    "        # print(json.loads(df[ds].iloc[0].replace(\"'\", '\"'))[\"auroc\"])\n",
    "        df[ds] = df[ds].apply(lambda x: json.loads(x.replace(\"'\", '\"'))[\"auroc\"])\n",
    "    columns = [\"model\", \"method\", \"seed\"] + datasets\n",
    "    df = df[columns]\n",
    "    df = df.groupby([\"model\", \"method\"]).mean().reset_index().sort_values([\"model\",\"average\"], ascending=False)\n",
    "    return df.to_markdown(index=False)\n",
    "leaderboard = create_leaderboard(RESULTS_FOLDER, PIPELINE_NAME)\n",
    "print(leaderboard)"
   ]
  },
  {
   "attachments": {},
   "cell_type": "markdown",
   "metadata": {},
   "source": [
    "## ImageNet"
   ]
  },
  {
   "cell_type": "code",
   "execution_count": 5,
   "metadata": {},
   "outputs": [
    {
     "name": "stdout",
     "output_type": "stream",
     "text": [
      "| model                 | method               |   imagenet_o |   average |\n",
      "|:----------------------|:---------------------|-------------:|----------:|\n",
      "| deit_base_patch16_224 | gradnorm             |     0.259428 |  0.196753 |\n",
      "| deit_base_patch16_224 | dice                 |     0.327737 |  0.268223 |\n",
      "| deit_base_patch16_224 | doctor               |     0.5      |  0.5      |\n",
      "| deit_base_patch16_224 | energy               |     0.695743 |  0.593337 |\n",
      "| deit_base_patch16_224 | igeood_logits        |     0.578508 |  0.729425 |\n",
      "| deit_base_patch16_224 | odin                 |     0.610155 |  0.810021 |\n",
      "| deit_base_patch16_224 | max_logits           |     0.614988 |  0.812983 |\n",
      "| deit_base_patch16_224 | react                |     0.724731 |  0.827364 |\n",
      "| deit_base_patch16_224 | mahalanobis          |     0.763014 |  0.837237 |\n",
      "| deit_base_patch16_224 | mcdropout            |     0.63648  |  0.841311 |\n",
      "| deit_base_patch16_224 | msp                  |     0.63648  |  0.841311 |\n",
      "| deit_base_patch16_224 | vim                  |     0.757291 |  0.857037 |\n",
      "| deit_base_patch16_224 | kl_matching          |     0.708922 |  0.861953 |\n",
      "| deit_base_patch16_224 | knn_euclides         |     0.768677 |  0.870331 |\n",
      "| deit_base_patch16_224 | projection           |     0.742607 |  0.873971 |\n",
      "| deit_base_patch16_224 | relative_mahalanobis |     0.764839 |  0.874452 |\n",
      "| deit_base_patch16_224 | maxcosine            |     0.778515 |  0.890059 |\n",
      "| tv_densenet121        | react                |     0.380322 |  0.620622 |\n",
      "| tv_densenet121        | mahalanobis          |     0.777864 |  0.659922 |\n",
      "| tv_densenet121        | igeood_logits        |     0.516974 |  0.705047 |\n",
      "| tv_densenet121        | gradnorm             |     0.44975  |  0.72001  |\n",
      "| tv_densenet121        | energy               |     0.470141 |  0.735304 |\n",
      "| tv_densenet121        | doctor               |     0.510078 |  0.745177 |\n",
      "| tv_densenet121        | relative_mahalanobis |     0.653633 |  0.752435 |\n",
      "| tv_densenet121        | mcdropout            |     0.473465 |  0.819974 |\n",
      "| tv_densenet121        | msp                  |     0.473465 |  0.819974 |\n",
      "| tv_densenet121        | projection           |     0.614782 |  0.82442  |\n",
      "| tv_densenet121        | kl_matching          |     0.564533 |  0.825278 |\n",
      "| tv_densenet121        | dice                 |     0.568404 |  0.837813 |\n",
      "| tv_densenet121        | vim                  |     0.722392 |  0.847255 |\n",
      "| tv_densenet121        | knn_euclides         |     0.85385  |  0.850732 |\n",
      "| tv_densenet121        | max_logits           |     0.56419  |  0.862353 |\n",
      "| tv_densenet121        | odin                 |     0.56727  |  0.862796 |\n",
      "| tv_densenet121        | maxcosine            |     0.825903 |  0.891198 |\n",
      "| tv_resnet50           | igeood_logits        |     0.463663 |  0.695553 |\n",
      "| tv_resnet50           | gradnorm             |     0.405495 |  0.70437  |\n",
      "| tv_resnet50           | mcdropout            |     0.286163 |  0.735012 |\n",
      "| tv_resnet50           | msp                  |     0.286163 |  0.735012 |\n",
      "| tv_resnet50           | kl_matching          |     0.390161 |  0.762575 |\n",
      "| tv_resnet50           | mahalanobis          |     0.778583 |  0.770686 |\n",
      "| tv_resnet50           | relative_mahalanobis |     0.574007 |  0.811911 |\n",
      "| tv_resnet50           | projection           |     0.617532 |  0.831072 |\n",
      "| tv_resnet50           | odin                 |     0.408213 |  0.841876 |\n",
      "| tv_resnet50           | dice                 |     0.446892 |  0.843036 |\n",
      "| tv_resnet50           | doctor               |     0.427442 |  0.843638 |\n",
      "| tv_resnet50           | energy               |     0.45556  |  0.843951 |\n",
      "| tv_resnet50           | react                |     0.504651 |  0.860666 |\n",
      "| tv_resnet50           | vim                  |     0.710321 |  0.877571 |\n",
      "| tv_resnet50           | maxcosine            |     0.759911 |  0.899701 |\n"
     ]
    }
   ],
   "source": [
    "PIPELINE_NAME = \"ood_validation_imagenet\"\n",
    "def create_leaderboard(results_folder: str, pipeline_name: str):\n",
    "    path = os.path.join(results_folder, pipeline_name)\n",
    "    df = pd.read_csv(os.path.join(path, 'results.csv'))\n",
    "    df = df.drop_duplicates()\n",
    "    # drop nan\n",
    "    df = df.dropna()\n",
    "    # objective auroc\n",
    "    df = df.query('objective == \"auroc\" and objective_dataset == \"average\"')\n",
    "    # datasets\n",
    "    datasets = [\"imagenet_o\", \"average\"]\n",
    "    for ds in datasets:\n",
    "        # print(json.loads(df[ds].iloc[0].replace(\"'\", '\"'))[\"auroc\"])\n",
    "        df[ds] = df[ds].apply(lambda x: json.loads(x.replace(\"'\", '\"'))[\"auroc\"])\n",
    "    columns = [\"model\", \"method\", \"seed\"] + datasets\n",
    "    df = df[columns]\n",
    "    df = df.groupby([\"model\", \"method\"]).mean().reset_index().sort_values([\"model\",\"average\"], ascending=True)\n",
    "    df = df.drop(columns=[\"seed\"])\n",
    "    return df.to_markdown(index=False)\n",
    "leaderboard = create_leaderboard(RESULTS_FOLDER, PIPELINE_NAME)\n",
    "print(leaderboard)"
   ]
  }
 ],
 "metadata": {
  "kernelspec": {
   "display_name": ".venv",
   "language": "python",
   "name": "python3"
  },
  "language_info": {
   "codemirror_mode": {
    "name": "ipython",
    "version": 3
   },
   "file_extension": ".py",
   "mimetype": "text/x-python",
   "name": "python",
   "nbconvert_exporter": "python",
   "pygments_lexer": "ipython3",
   "version": "3.10.11"
  },
  "orig_nbformat": 4
 },
 "nbformat": 4,
 "nbformat_minor": 2
}
